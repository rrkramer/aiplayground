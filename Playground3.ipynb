{
 "cells": [
  {
   "attachments": {},
   "cell_type": "markdown",
   "id": "7ed160f5-6224-43dd-912a-8d654eb9956f",
   "metadata": {
    "editable": true,
    "slideshow": {
     "slide_type": ""
    },
    "tags": []
   },
   "source": [
    "## Create content related to the Fellowmind Podcast"
   ]
  },
  {
   "cell_type": "code",
   "execution_count": null,
   "id": "780c1815-174c-44c4-b908-57d6db091175",
   "metadata": {
    "editable": true,
    "slideshow": {
     "slide_type": ""
    },
    "tags": []
   },
   "outputs": [],
   "source": [
    "#Load OpenAI, set connectionsettings"
   ]
  },
  {
   "cell_type": "code",
   "execution_count": null,
   "id": "5c60ee7c-8c5c-4e4d-b422-3679715fa8c9",
   "metadata": {
    "editable": true,
    "slideshow": {
     "slide_type": ""
    },
    "tags": []
   },
   "outputs": [],
   "source": []
  },
  {
   "cell_type": "code",
   "execution_count": null,
   "id": "6323b5d0-d485-40af-a4d6-454f23ef2321",
   "metadata": {
    "editable": true,
    "slideshow": {
     "slide_type": ""
    },
    "tags": []
   },
   "outputs": [],
   "source": [
    "##  Load the MP3 file\n",
    "## Chunk in to smaller files\n",
    "\n"
   ]
  },
  {
   "cell_type": "code",
   "execution_count": null,
   "id": "683c4323-ed69-4789-8b91-7b8353d4c4ae",
   "metadata": {
    "editable": true,
    "slideshow": {
     "slide_type": ""
    },
    "tags": []
   },
   "outputs": [],
   "source": [
    "## Create transcript file\n",
    "\n"
   ]
  },
  {
   "cell_type": "code",
   "execution_count": null,
   "id": "6dc83eb1-881e-4379-aec6-7b84f995d5c4",
   "metadata": {
    "editable": true,
    "slideshow": {
     "slide_type": ""
    },
    "tags": []
   },
   "outputs": [],
   "source": [
    "## Create a summary\n",
    "\n",
    "## Create a blogpost\n",
    "\n",
    "## Create an Image"
   ]
  },
  {
   "cell_type": "markdown",
   "id": "96b0d32a-d321-41fa-87c3-34cbe4d8f833",
   "metadata": {},
   "source": [
    "## Create a Twitter message"
   ]
  },
  {
   "cell_type": "code",
   "execution_count": null,
   "id": "91cadd5c-2ecf-493b-951b-8a92ca5265d2",
   "metadata": {},
   "outputs": [],
   "source": []
  }
 ],
 "metadata": {
  "kernelspec": {
   "display_name": "Python 3 (ipykernel)",
   "language": "python",
   "name": "python3"
  },
  "language_info": {
   "codemirror_mode": {
    "name": "ipython",
    "version": 3
   },
   "file_extension": ".py",
   "mimetype": "text/x-python",
   "name": "python",
   "nbconvert_exporter": "python",
   "pygments_lexer": "ipython3",
   "version": "3.10.0"
  }
 },
 "nbformat": 4,
 "nbformat_minor": 5
}
