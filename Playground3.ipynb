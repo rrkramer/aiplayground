{
 "cells": [
  {
   "attachments": {},
   "cell_type": "markdown",
   "id": "7ed160f5-6224-43dd-912a-8d654eb9956f",
   "metadata": {
    "editable": true,
    "slideshow": {
     "slide_type": ""
    },
    "tags": []
   },
   "source": [
    "## Create content related to the Fellowmind Podcast"
   ]
  },
  {
   "cell_type": "markdown",
   "id": "780c1815-174c-44c4-b908-57d6db091175",
   "metadata": {
    "editable": true,
    "slideshow": {
     "slide_type": ""
    },
    "tags": []
   },
   "source": [
    "Fellowmind presents a weekly podcast. While very interesting as a marketeer you do not have all the time in the world to listen to the whole of the podcast. You need the help of AI to execute the following tasks:\n",
    "1. Create a transcript\n",
    "2. Create a summary for the newsletter\n",
    "3. Create an anouncement text for Linkedin\n",
    "4. Create a blogpost that discusses the same topic using the podcast as input\n",
    "5. Create an image that is fitting, to accompany the blogpost\n",
    "6. Create a Twitter message to announce the article and podcast"
   ]
  },
  {
   "cell_type": "code",
   "execution_count": 1,
   "id": "5c60ee7c-8c5c-4e4d-b422-3679715fa8c9",
   "metadata": {
    "editable": true,
    "slideshow": {
     "slide_type": ""
    },
    "tags": []
   },
   "outputs": [],
   "source": [
    "# Load OpenAI, set connectionsettings"
   ]
  },
  {
   "cell_type": "code",
   "execution_count": null,
   "id": "6323b5d0-d485-40af-a4d6-454f23ef2321",
   "metadata": {
    "editable": true,
    "slideshow": {
     "slide_type": ""
    },
    "tags": []
   },
   "outputs": [],
   "source": [
    "##  Load the MP3 file\n",
    "## Chunk in to smaller files (already done)\n",
    "\n"
   ]
  },
  {
   "cell_type": "markdown",
   "id": "683c4323-ed69-4789-8b91-7b8353d4c4ae",
   "metadata": {
    "editable": true,
    "slideshow": {
     "slide_type": ""
    },
    "tags": []
   },
   "source": [
    "## Create transcript file\n",
    "\n"
   ]
  },
  {
   "cell_type": "code",
   "execution_count": null,
   "id": "91cadd5c-2ecf-493b-951b-8a92ca5265d2",
   "metadata": {},
   "outputs": [],
   "source": []
  },
  {
   "cell_type": "markdown",
   "id": "6dc83eb1-881e-4379-aec6-7b84f995d5c4",
   "metadata": {
    "editable": true,
    "slideshow": {
     "slide_type": ""
    },
    "tags": []
   },
   "source": [
    "## Create a summary\n",
    "\n"
   ]
  },
  {
   "cell_type": "code",
   "execution_count": null,
   "id": "c4bab667",
   "metadata": {},
   "outputs": [],
   "source": []
  },
  {
   "cell_type": "markdown",
   "id": "22515298",
   "metadata": {},
   "source": [
    "## Create a blogpost"
   ]
  },
  {
   "cell_type": "code",
   "execution_count": null,
   "id": "ad9b41c2",
   "metadata": {},
   "outputs": [],
   "source": []
  },
  {
   "cell_type": "markdown",
   "id": "0cd3480f",
   "metadata": {},
   "source": [
    "## Create an Image"
   ]
  },
  {
   "cell_type": "code",
   "execution_count": null,
   "id": "1d38afe8",
   "metadata": {},
   "outputs": [],
   "source": []
  },
  {
   "cell_type": "markdown",
   "id": "b2adb203",
   "metadata": {},
   "source": [
    "## Create 3 Tweets"
   ]
  },
  {
   "cell_type": "code",
   "execution_count": null,
   "id": "bf4a9b9f",
   "metadata": {},
   "outputs": [],
   "source": []
  }
 ],
 "metadata": {
  "kernelspec": {
   "display_name": "Python 3.10.0 64-bit",
   "language": "python",
   "name": "python3"
  },
  "language_info": {
   "codemirror_mode": {
    "name": "ipython",
    "version": 3
   },
   "file_extension": ".py",
   "mimetype": "text/x-python",
   "name": "python",
   "nbconvert_exporter": "python",
   "pygments_lexer": "ipython3",
   "version": "3.10.0"
  },
  "vscode": {
   "interpreter": {
    "hash": "1c2aa58004e194cbbf1372bb2144d08044146ca26183991521ca2f55f95bf8e5"
   }
  }
 },
 "nbformat": 4,
 "nbformat_minor": 5
}
